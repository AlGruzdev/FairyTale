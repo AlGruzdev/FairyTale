{
 "cells": [
  {
   "cell_type": "code",
   "execution_count": 42,
   "id": "83c5e41b",
   "metadata": {},
   "outputs": [],
   "source": [
    "import os\n",
    "\n",
    "dir_tail = os.getcwd()"
   ]
  },
  {
   "cell_type": "code",
   "execution_count": 43,
   "id": "07f995a2",
   "metadata": {},
   "outputs": [],
   "source": [
    "folder_tail = 'К сказке'\n",
    "file_0 = 'скелет_сказки.txt'\n",
    "file_1 = 'Герой.txt'\n",
    "file_2 = 'место_действия.txt'\n",
    "file_3 = 'беда.txt'\n",
    "file_4 = 'Помощник.txt'\n",
    "file_5 = 'первый_дар.txt'\n",
    "file_6 = 'оружие.txt'\n",
    "file_7 = 'Антигерой.txt'\n",
    "file_8 = 'Невеста.txt'\n",
    "file_9 = 'финальный_глагол.txt'\n",
    "file_10 = 'Сказка.txt'"
   ]
  },
  {
   "cell_type": "code",
   "execution_count": 44,
   "id": "3e09bb1c",
   "metadata": {},
   "outputs": [],
   "source": [
    "dir_path = os.path.join(dir_tail, folder_tail)\n",
    "skeleton = os.path.join(dir_path, file_0)\n",
    "hero = os.path.join(dir_path, file_1)\n",
    "place = os.path.join(dir_path, file_2)\n",
    "trouble = os.path.join(dir_path, file_3)\n",
    "ally = os.path.join(dir_path, file_4)\n",
    "first_present = os.path.join(dir_path, file_5)\n",
    "weapon = os.path.join(dir_path, file_6)\n",
    "antihero = os.path.join(dir_path, file_7)\n",
    "bride = os.path.join(dir_path, file_8)\n",
    "final_verb = os.path.join(dir_path, file_9)\n",
    "path_new_text = os.path.join(dir_path, file_10)"
   ]
  },
  {
   "cell_type": "code",
   "execution_count": 45,
   "id": "28c79a1b",
   "metadata": {},
   "outputs": [],
   "source": [
    "def read_text(data_file):\n",
    "    rt = open(data_file, 'r', encoding='utf-8')\n",
    "    rrt = rt.read()\n",
    "    rrt_l = rrt.split('\\n')\n",
    "    return rrt_l"
   ]
  },
  {
   "cell_type": "code",
   "execution_count": 46,
   "id": "b965679e",
   "metadata": {
    "scrolled": true
   },
   "outputs": [
    {
     "name": "stdout",
     "output_type": "stream",
     "text": [
      "['Жил-был __имя__ __где1__.', 'Налетели как-то __беда__.', 'Не стало житья __где1__.', 'Снарядился __имя__ в дорогу.', 'Долго ли, коротко ли шёл __имя__.', 'Повстречал __где2__ __помощника1__.', 'Тот ему: \"Помоги мне, __имя__ , а я тебе помогу\".', 'Исполнил __имя__ его просьбу и спрашивает __помощника1__: \"Не подскажешь, как мне сыскать __врага__.', 'И тот дал ему __подарок__.', 'Пошёл __имя__ дальше и встретил __где3__ __помощника2__.', 'Тот попросил ему помочь и дал __оружие__.', 'Указал __подарок__ путь, как добраться до __врага__. Он жил __где4__.', 'Победил __имя__ __врага__, применив __оружие__.', 'Спас заодно из заточения __где4__ __невесту__.', 'Взял в жены __невесту__, и воротился с ней жить __где1__.', 'Тут и сказке конец, а кто __глагол__  - молодец.']\n",
      "<class 'list'>\n"
     ]
    }
   ],
   "source": [
    "print(read_text(skeleton))\n",
    "print(type(read_text(skeleton)))"
   ]
  },
  {
   "cell_type": "code",
   "execution_count": 47,
   "id": "8a722a20",
   "metadata": {},
   "outputs": [],
   "source": [
    "import random"
   ]
  },
  {
   "cell_type": "code",
   "execution_count": 48,
   "id": "80d2b838",
   "metadata": {},
   "outputs": [],
   "source": [
    "def rand_word(word_list):\n",
    "    rand_w=random.choice(read_text(word_list))\n",
    "    return rand_w    "
   ]
  },
  {
   "cell_type": "code",
   "execution_count": 49,
   "id": "f2cb6261",
   "metadata": {},
   "outputs": [],
   "source": [
    "name=rand_word(hero)\n",
    "place_1=rand_word(place)\n",
    "troub=rand_word(trouble)\n",
    "place_2=rand_word(place)\n",
    "while True: \n",
    "    if place_2 != place_1:\n",
    "        break\n",
    "    else:\n",
    "        place_2=rand_word(place)\n",
    "ally_1=rand_word(ally)\n",
    "present=rand_word(first_present)\n",
    "ally_2=rand_word(ally)\n",
    "while True: \n",
    "    if ally_2 != ally_1:\n",
    "        break\n",
    "    else:\n",
    "        ally_2=rand_word(ally)\n",
    "place_3=rand_word(place)\n",
    "while True: \n",
    "    if (place_3 != place_1) & (place_3 != place_2):\n",
    "        break\n",
    "    else:\n",
    "        place_3=rand_word(place)\n",
    "gun=rand_word(weapon)\n",
    "place_4=rand_word(place)\n",
    "while True: \n",
    "    if (place_4 != place_1) & (place_4 != place_2) & (place_4 != place_3):\n",
    "        break\n",
    "    else:\n",
    "        place_4=rand_word(place)\n",
    "anemy=rand_word(antihero)\n",
    "wife=rand_word(bride)\n",
    "verb=rand_word(final_verb)"
   ]
  },
  {
   "cell_type": "code",
   "execution_count": 50,
   "id": "5889b679",
   "metadata": {},
   "outputs": [
    {
     "name": "stdout",
     "output_type": "stream",
     "text": [
      "Бравый Солдат в лесу пандемии на вершине горы Йоду лазерный луч Медведя Косолапого в деревне ядерный чемоданчик в башне Змея Горыныча Девочку на шаре код просек\n"
     ]
    }
   ],
   "source": [
    "print(name, place_1,troub,place_2, ally_1,present, ally_2, place_3, gun, place_4, anemy, wife, verb)"
   ]
  },
  {
   "cell_type": "code",
   "execution_count": 51,
   "id": "cb4f5708",
   "metadata": {
    "scrolled": true
   },
   "outputs": [],
   "source": [
    "#sk = open(skeleton, 'r', encoding='utf-8')\n",
    "\n",
    "#while True:\n",
    "   \n",
    "#    tail_str=sk.readline().strip()\n",
    "    \n",
    "#    if not tail_str:\n",
    "#        break\n",
    "#    else:\n",
    "#        print(f'{tail_str} {rand_word(hero)} {rand_word(place)}')\n",
    "\n",
    "    "
   ]
  },
  {
   "cell_type": "code",
   "execution_count": 52,
   "id": "fd2ca9ac",
   "metadata": {
    "scrolled": true
   },
   "outputs": [
    {
     "name": "stdout",
     "output_type": "stream",
     "text": [
      "Жил-был Бравый Солдат в лесу.\n",
      "Налетели как-то пандемии.\n",
      "Не стало житья в лесу.\n",
      "Снарядился Бравый Солдат в дорогу.\n",
      "Долго ли, коротко ли шёл Бравый Солдат.\n",
      "Повстречал на вершине горы Йоду.\n",
      "Тот ему: \"Помоги мне, Бравый Солдат , а я тебе помогу\".\n",
      "Исполнил Бравый Солдат его просьбу и спрашивает Йоду: \"Не подскажешь, как мне сыскать Змея Горыныча.\n",
      "И тот дал ему лазерный луч.\n",
      "Пошёл Бравый Солдат дальше и встретил в деревне Медведя Косолапого.\n",
      "Тот попросил ему помочь и дал ядерный чемоданчик.\n",
      "Указал лазерный луч путь, как добраться до Змея Горыныча. Он жил в башне.\n",
      "Победил Бравый Солдат Змея Горыныча, применив ядерный чемоданчик.\n",
      "Спас заодно из заточения в башне Девочку на шаре.\n",
      "Взял в жены Девочку на шаре, и воротился с ней жить в лесу.\n",
      "Тут и сказке конец, а кто код просек  - молодец.\n"
     ]
    }
   ],
   "source": [
    "#text_skeleton=open(skeleton, 'w', encoding='utf-8')\n",
    "frt = open(skeleton, 'r', encoding='utf-8')\n",
    "text_skeleton = frt.read()\n",
    "\n",
    "new_text=text_skeleton.replace('__имя__', name).replace('__где1__', place_1).replace('__беда__', troub)\n",
    "new_text=new_text.replace('__где2__', place_2).replace('__помощника1__', ally_1).replace('__подарок__', present)\n",
    "new_text=new_text.replace('__где3__', place_3).replace('__помощника2__', ally_2).replace('__оружие__', gun)\n",
    "new_text=new_text.replace('__где4__', place_4).replace('__врага__', anemy).replace('__невесту__', wife)\n",
    "new_text=new_text.replace('__глагол__', verb)                           \n",
    "print(new_text)"
   ]
  },
  {
   "cell_type": "code",
   "execution_count": 53,
   "id": "8110ac60",
   "metadata": {},
   "outputs": [],
   "source": [
    "#a=new_text.replace(',','').replace('[','').replace(']','').replace(\"'\",'')\n",
    "#print(a)"
   ]
  },
  {
   "cell_type": "code",
   "execution_count": 54,
   "id": "12899ea1",
   "metadata": {},
   "outputs": [],
   "source": [
    "#os.makedirs(dir_path, exist_ok=True)\n",
    "with open(path_new_text, 'w', encoding='utf-8') as tail:\n",
    "    tail.write(new_text)\n",
    "\n",
    "   "
   ]
  },
  {
   "cell_type": "code",
   "execution_count": null,
   "id": "d84d3102",
   "metadata": {},
   "outputs": [],
   "source": []
  }
 ],
 "metadata": {
  "kernelspec": {
   "display_name": "Python 3",
   "language": "python",
   "name": "python3"
  },
  "language_info": {
   "codemirror_mode": {
    "name": "ipython",
    "version": 3
   },
   "file_extension": ".py",
   "mimetype": "text/x-python",
   "name": "python",
   "nbconvert_exporter": "python",
   "pygments_lexer": "ipython3",
   "version": "3.8.8"
  }
 },
 "nbformat": 4,
 "nbformat_minor": 5
}
