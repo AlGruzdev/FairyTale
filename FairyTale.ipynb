{
 "cells": [
  {
   "cell_type": "code",
   "execution_count": 41,
   "id": "d00b6be7",
   "metadata": {},
   "outputs": [],
   "source": [
    "import os\n",
    "import random\n",
    "\n",
    "dir_tail = os.getcwd()"
   ]
  },
  {
   "cell_type": "code",
   "execution_count": 42,
   "id": "fe002d77",
   "metadata": {},
   "outputs": [],
   "source": [
    "#Тексовые файлы в папке \"К сказке\" \n",
    "folder_tail = 'К сказке'\n",
    "file_0 = 'скелет_сказки.txt'\n",
    "file_1 = 'Герой.txt'\n",
    "file_2 = 'место_действия.txt'\n",
    "file_3 = 'беда.txt'\n",
    "file_4 = 'Помощник.txt'\n",
    "file_5 = 'первый_дар.txt'\n",
    "file_6 = 'оружие.txt'\n",
    "file_7 = 'Антигерой.txt'\n",
    "file_8 = 'Невеста.txt'\n",
    "file_9 = 'финальный_глагол.txt'\n",
    "file_10 = 'Сказка.txt'"
   ]
  },
  {
   "cell_type": "code",
   "execution_count": 43,
   "id": "c2577314",
   "metadata": {},
   "outputs": [],
   "source": [
    "#Пути к файлам\n",
    "dir_path = os.path.join(dir_tail, folder_tail)\n",
    "skeleton = os.path.join(dir_path, file_0)\n",
    "hero = os.path.join(dir_path, file_1)\n",
    "place = os.path.join(dir_path, file_2)\n",
    "trouble = os.path.join(dir_path, file_3)\n",
    "ally = os.path.join(dir_path, file_4)\n",
    "first_present = os.path.join(dir_path, file_5)\n",
    "weapon = os.path.join(dir_path, file_6)\n",
    "antihero = os.path.join(dir_path, file_7)\n",
    "bride = os.path.join(dir_path, file_8)\n",
    "final_verb = os.path.join(dir_path, file_9)\n",
    "path_new_text = os.path.join(dir_path, file_10)"
   ]
  },
  {
   "cell_type": "code",
   "execution_count": 44,
   "id": "325e06b3",
   "metadata": {},
   "outputs": [],
   "source": [
    "#Чтение файлов и преобразование их в list\n",
    "def read_text(data_file):\n",
    "    rt = open(data_file, 'r', encoding='utf-8')\n",
    "    rrt = rt.read()\n",
    "    rrt_l = rrt.split('\\n')\n",
    "    return rrt_l"
   ]
  },
  {
   "cell_type": "code",
   "execution_count": 46,
   "id": "f52931fb",
   "metadata": {},
   "outputs": [],
   "source": [
    "#Случайный выбор героя и прочих\n",
    "def rand_word(word_list):\n",
    "    rand_w=random.choice(read_text(word_list))\n",
    "    return rand_w "
   ]
  },
  {
   "cell_type": "code",
   "execution_count": 47,
   "id": "a1e65898",
   "metadata": {},
   "outputs": [],
   "source": [
    "name=rand_word(hero)\n",
    "place_1=rand_word(place)\n",
    "troub=rand_word(trouble)\n",
    "place_2=rand_word(place)\n",
    "while True: \n",
    "    if place_2 != place_1:\n",
    "        break\n",
    "    else:\n",
    "        place_2=rand_word(place)\n",
    "ally_1=rand_word(ally)\n",
    "present=rand_word(first_present)\n",
    "ally_2=rand_word(ally)\n",
    "while True: \n",
    "    if ally_2 != ally_1:\n",
    "        break\n",
    "    else:\n",
    "        ally_2=rand_word(ally)\n",
    "place_3=rand_word(place)\n",
    "while True: \n",
    "    if (place_3 != place_1) & (place_3 != place_2):\n",
    "        break\n",
    "    else:\n",
    "        place_3=rand_word(place)\n",
    "gun=rand_word(weapon)\n",
    "place_4=rand_word(place)\n",
    "while True: \n",
    "    if (place_4 != place_1) & (place_4 != place_2) & (place_4 != place_3):\n",
    "        break\n",
    "    else:\n",
    "        place_4=rand_word(place)\n",
    "anemy=rand_word(antihero)\n",
    "wife=rand_word(bride)\n",
    "verb=rand_word(final_verb)"
   ]
  },
  {
   "cell_type": "code",
   "execution_count": 48,
   "id": "b6bbf62f",
   "metadata": {},
   "outputs": [],
   "source": [
    "#Чтение файла со скелетом сказки и создание файла случайной сказки\n",
    "skelet = open(skeleton, 'r', encoding='utf-8')\n",
    "text_skeleton = skelet.read()\n",
    "\n",
    "new_text=text_skeleton.replace('__имя__', name).replace('__где1__', place_1).replace('__беда__', troub)\n",
    "new_text=new_text.replace('__где2__', place_2).replace('__помощника1__', ally_1).replace('__подарок__', present)\n",
    "new_text=new_text.replace('__где3__', place_3).replace('__помощника2__', ally_2).replace('__оружие__', gun)\n",
    "new_text=new_text.replace('__где4__', place_4).replace('__врага__', anemy).replace('__невесту__', wife)\n",
    "new_text=new_text.replace('__глагол__', verb)  "
   ]
  },
  {
   "cell_type": "code",
   "execution_count": 49,
   "id": "4215ae41",
   "metadata": {},
   "outputs": [],
   "source": [
    "#Запись случайной сказки в файл\n",
    "with open(path_new_text, 'w', encoding='utf-8') as tail:\n",
    "    tail.write(new_text)\n"
   ]
  },
  {
   "cell_type": "code",
   "execution_count": null,
   "id": "ef12d46c",
   "metadata": {},
   "outputs": [],
   "source": []
  }
 ],
 "metadata": {
  "kernelspec": {
   "display_name": "Python 3",
   "language": "python",
   "name": "python3"
  },
  "language_info": {
   "codemirror_mode": {
    "name": "ipython",
    "version": 3
   },
   "file_extension": ".py",
   "mimetype": "text/x-python",
   "name": "python",
   "nbconvert_exporter": "python",
   "pygments_lexer": "ipython3",
   "version": "3.8.8"
  }
 },
 "nbformat": 4,
 "nbformat_minor": 5
}
